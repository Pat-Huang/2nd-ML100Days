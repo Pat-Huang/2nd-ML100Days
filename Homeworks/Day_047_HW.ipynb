{
 "cells": [
  {
   "cell_type": "markdown",
   "metadata": {},
   "source": [
    "## [作業重點]\n",
    "了解如何使用 Sklearn 中的 hyper-parameter search 找出最佳的超參數"
   ]
  },
  {
   "cell_type": "markdown",
   "metadata": {},
   "source": [
    "### 作業\n",
    "請使用不同的資料集，並使用 hyper-parameter search 的方式，看能不能找出最佳的超參數組合"
   ]
  },
  {
   "cell_type": "code",
   "execution_count": 1,
   "metadata": {},
   "outputs": [],
   "source": [
    "from sklearn import datasets\n",
    "from sklearn.model_selection import train_test_split, GridSearchCV\n",
    "from sklearn.ensemble import GradientBoostingRegressor, GradientBoostingClassifier\n",
    "from sklearn.metrics import mean_squared_error, accuracy_score\n",
    "\n",
    "import warnings\n",
    "warnings.filterwarnings('ignore')"
   ]
  },
  {
   "cell_type": "code",
   "execution_count": 2,
   "metadata": {},
   "outputs": [
    {
     "name": "stdout",
     "output_type": "stream",
     "text": [
      "The original mean squared error of boston: 10.599669562491401\n",
      "The original accuracy score of wine: 0.9555555555555556\n"
     ]
    }
   ],
   "source": [
    "# original\n",
    "wine=datasets.load_wine()\n",
    "boston=datasets.load_boston()\n",
    "x_train, x_test, y_train, y_test=train_test_split(boston.data, boston.target, test_size=0.25, random_state=4)\n",
    "X_train, X_test, Y_train, Y_test=train_test_split(wine.data, wine.target, test_size=0.25, random_state=4)\n",
    "\n",
    "gbr=GradientBoostingRegressor(random_state=7)\n",
    "gbr.fit(x_train, y_train)\n",
    "y_pred=gbr.predict(x_test)\n",
    "print('The original mean squared error of boston:',mean_squared_error(y_test, y_pred))\n",
    "\n",
    "gbc=GradientBoostingClassifier(random_state=7)\n",
    "gbc.fit(X_train, Y_train)\n",
    "Y_pred=gbc.predict(X_test)\n",
    "print('The original accuracy score of wine:', accuracy_score(Y_test, Y_pred))"
   ]
  },
  {
   "cell_type": "code",
   "execution_count": 3,
   "metadata": {},
   "outputs": [
    {
     "name": "stdout",
     "output_type": "stream",
     "text": [
      "Fitting 3 folds for each of 9 candidates, totalling 27 fits\n"
     ]
    },
    {
     "name": "stderr",
     "output_type": "stream",
     "text": [
      "[Parallel(n_jobs=-1)]: Using backend LokyBackend with 4 concurrent workers.\n",
      "[Parallel(n_jobs=-1)]: Done  27 out of  27 | elapsed:    4.6s finished\n",
      "[Parallel(n_jobs=-1)]: Using backend LokyBackend with 4 concurrent workers.\n"
     ]
    },
    {
     "name": "stdout",
     "output_type": "stream",
     "text": [
      "Fitting 3 folds for each of 9 candidates, totalling 27 fits\n"
     ]
    },
    {
     "name": "stderr",
     "output_type": "stream",
     "text": [
      "[Parallel(n_jobs=-1)]: Done  20 out of  27 | elapsed:    1.8s remaining:    0.6s\n"
     ]
    },
    {
     "name": "stdout",
     "output_type": "stream",
     "text": [
      "Best accuracy for boston: -10.887597244141425 by using: {'max_depth': 3, 'n_estimators': 150}\n",
      "Best accuracy for wine: 0.9548872180451128 by using: {'max_depth': 1, 'n_estimators': 50}\n"
     ]
    },
    {
     "name": "stderr",
     "output_type": "stream",
     "text": [
      "[Parallel(n_jobs=-1)]: Done  27 out of  27 | elapsed:    2.4s finished\n"
     ]
    }
   ],
   "source": [
    "# best hyperparameter\n",
    "\n",
    "n_estimators=[50, 100, 150]\n",
    "max_depth=[1,3,5]\n",
    "param_grid=dict(n_estimators=n_estimators, max_depth=max_depth)\n",
    "\n",
    "grid_search=GridSearchCV(gbr, param_grid, scoring=\"neg_mean_squared_error\", n_jobs=-1, verbose=1)\n",
    "grid_search2=GridSearchCV(gbc, param_grid, scoring=\"accuracy\", n_jobs=-1, verbose=1)\n",
    "\n",
    "grid_result=grid_search.fit(x_train, y_train)\n",
    "grid_result2=grid_search2.fit(X_train, Y_train)\n",
    "\n",
    "print('Best accuracy for boston:', grid_result.best_score_,'by using:', grid_result.best_params_)\n",
    "\n",
    "print('Best accuracy for wine:', grid_result2.best_score_,'by using:', grid_result2.best_params_)"
   ]
  },
  {
   "cell_type": "code",
   "execution_count": 4,
   "metadata": {},
   "outputs": [
    {
     "name": "stdout",
     "output_type": "stream",
     "text": [
      "The mean squared error of boston after adjusting: 10.44030519062419\n",
      "The accuracy score of wine after adjusting: 0.9555555555555556\n"
     ]
    }
   ],
   "source": [
    "gbr_bestparam=GradientBoostingRegressor(random_state=7,max_depth=grid_result.best_params_['max_depth'],\n",
    "                                       n_estimators=grid_result.best_params_['n_estimators'])\n",
    "gbr_bestparam.fit(x_train, y_train)\n",
    "y_pred=gbr_bestparam.predict(x_test)\n",
    "print('The mean squared error of boston after adjusting:',mean_squared_error(y_test, y_pred))\n",
    "\n",
    "\n",
    "gbc_bestparam=GradientBoostingClassifier(random_state=7,max_depth=grid_result.best_params_['max_depth'],\n",
    "                                       n_estimators=grid_result.best_params_['n_estimators'])\n",
    "gbc_bestparam.fit(X_train, Y_train)\n",
    "Y_pred=gbc_bestparam.predict(X_test)\n",
    "print('The accuracy score of wine after adjusting:',accuracy_score(Y_test, Y_pred))"
   ]
  }
 ],
 "metadata": {
  "kernelspec": {
   "display_name": "Python 3",
   "language": "python",
   "name": "python3"
  },
  "language_info": {
   "codemirror_mode": {
    "name": "ipython",
    "version": 3
   },
   "file_extension": ".py",
   "mimetype": "text/x-python",
   "name": "python",
   "nbconvert_exporter": "python",
   "pygments_lexer": "ipython3",
   "version": "3.7.1"
  }
 },
 "nbformat": 4,
 "nbformat_minor": 2
}
