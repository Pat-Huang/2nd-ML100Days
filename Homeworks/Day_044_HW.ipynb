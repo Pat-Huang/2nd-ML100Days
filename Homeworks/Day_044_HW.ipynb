{
 "cells": [
  {
   "cell_type": "markdown",
   "metadata": {},
   "source": [
    "## [作業重點]\n",
    "確保你了解隨機森林模型中每個超參數的意義，並觀察調整超參數對結果的影響"
   ]
  },
  {
   "cell_type": "markdown",
   "metadata": {},
   "source": [
    "## 作業\n",
    "\n",
    "1. 試著調整 RandomForestClassifier(...) 中的參數，並觀察是否會改變結果？\n",
    "2. 改用其他資料集 (boston, wine)，並與回歸模型與決策樹的結果進行比較"
   ]
  },
  {
   "cell_type": "code",
   "execution_count": 1,
   "metadata": {},
   "outputs": [],
   "source": [
    "from sklearn import datasets, metrics\n",
    "from sklearn.model_selection import train_test_split\n",
    "from sklearn.ensemble import RandomForestClassifier, RandomForestRegressor"
   ]
  },
  {
   "cell_type": "code",
   "execution_count": 2,
   "metadata": {},
   "outputs": [
    {
     "name": "stdout",
     "output_type": "stream",
     "text": [
      "feature names of iris:\n",
      " ['sepal length (cm)', 'sepal width (cm)', 'petal length (cm)', 'petal width (cm)'] \n",
      "\n",
      "Feature importance:  [0.07748117 0.02427097 0.39169867 0.50654919]\n",
      "Accuracy score (before): 0.9736842105263158 \n",
      "\n",
      "Feature importance:  [0.10023101 0.03227922 0.35667976 0.51081001]\n",
      "Accuracy score  (after): 0.9473684210526315\n"
     ]
    }
   ],
   "source": [
    "#調整參數\n",
    "iris=datasets.load_iris()\n",
    "x_train, x_test, y_train, y_test= train_test_split(iris.data, iris.target, test_size=0.25, random_state=4)\n",
    "\n",
    "print('feature names of iris:\\n',iris.feature_names,'\\n')\n",
    "\n",
    "rfc=RandomForestClassifier(n_estimators=20, max_depth=4)\n",
    "rfc.fit(x_train, y_train)\n",
    "y_pred=rfc.predict(x_test)\n",
    "\n",
    "acc=metrics.accuracy_score(y_test, y_pred)\n",
    "print(\"Feature importance: \",rfc.feature_importances_)\n",
    "print('Accuracy score (before):',acc,'\\n')\n",
    "\n",
    "rfc=RandomForestClassifier(n_estimators=20, max_depth=8)\n",
    "rfc.fit(x_train, y_train)\n",
    "y_pred=rfc.predict(x_test)\n",
    "\n",
    "acc=metrics.accuracy_score(y_test, y_pred)\n",
    "print(\"Feature importance: \", rfc.feature_importances_)\n",
    "print('Accuracy score  (after):',acc)"
   ]
  },
  {
   "cell_type": "code",
   "execution_count": 3,
   "metadata": {},
   "outputs": [],
   "source": [
    "from sklearn.linear_model import Lasso, LogisticRegression\n",
    "import warnings\n",
    "warnings.filterwarnings('ignore')"
   ]
  },
  {
   "cell_type": "code",
   "execution_count": 4,
   "metadata": {},
   "outputs": [
    {
     "name": "stdout",
     "output_type": "stream",
     "text": [
      "The Mean Absolute Error of boston(Lasso): 3.63\n",
      "The Mean Absolute Error of boston(Random forest): 2.96\n"
     ]
    }
   ],
   "source": [
    "#其他資料集其回歸模型與隨機樹比較\n",
    "boston=datasets.load_boston() #回歸問題\n",
    "wine=datasets.load_wine() #分類問題\n",
    "\n",
    "x1_train, x1_test, y1_train, y1_test=train_test_split(boston.data, boston.target, test_size=0.25, random_state=4)\n",
    "x2_train, x2_test, y2_train, y2_test=train_test_split(wine.data, wine.target, test_size=0.25, random_state=4)\n",
    "\n",
    "la=Lasso(alpha=0.1)\n",
    "la.fit(x1_train, y1_train)\n",
    "y1_pred=la.predict(x1_test)\n",
    "print('The Mean Absolute Error of boston(Lasso): %.2f'%metrics.mean_absolute_error(y1_test,y1_pred))\n",
    "\n",
    "rfr=RandomForestRegressor(n_estimators=20, max_depth=4)\n",
    "rfr.fit(x1_train, y1_train)\n",
    "y1_pred=rfr.predict(x1_test)\n",
    "\n",
    "rfr.fit(x1_train, y1_train)\n",
    "y1_pred=rfr.predict(x1_test)\n",
    "print('The Mean Absolute Error of boston(Random forest): %.2f'%metrics.mean_absolute_error(y1_test,y1_pred))"
   ]
  },
  {
   "cell_type": "code",
   "execution_count": 5,
   "metadata": {},
   "outputs": [
    {
     "name": "stdout",
     "output_type": "stream",
     "text": [
      "The accuracy score of wine(LogisticRegression): 0.93\n",
      "The Mean Absolute Error of boston(Random forest): 0.02\n"
     ]
    }
   ],
   "source": [
    "lr=LogisticRegression(C=0.1)\n",
    "lr.fit(x2_train, y2_train)\n",
    "y2_pred=lr.predict(x2_test)\n",
    "print('The accuracy score of wine(LogisticRegression): %.2f'%metrics.accuracy_score(y2_test,y2_pred))\n",
    "\n",
    "rfc=RandomForestClassifier(n_estimators=20, max_depth=4)\n",
    "rfc.fit(x2_train, y2_train)\n",
    "y2_pred=rfc.predict(x2_test)\n",
    "\n",
    "rfc.fit(x2_train, y2_train)\n",
    "y2_pred=rfc.predict(x2_test)\n",
    "print('The Mean Absolute Error of boston(Random forest): %.2f'%metrics.mean_absolute_error(y2_test,y2_pred))"
   ]
  }
 ],
 "metadata": {
  "kernelspec": {
   "display_name": "Python 3",
   "language": "python",
   "name": "python3"
  },
  "language_info": {
   "codemirror_mode": {
    "name": "ipython",
    "version": 3
   },
   "file_extension": ".py",
   "mimetype": "text/x-python",
   "name": "python",
   "nbconvert_exporter": "python",
   "pygments_lexer": "ipython3",
   "version": "3.7.1"
  }
 },
 "nbformat": 4,
 "nbformat_minor": 2
}
