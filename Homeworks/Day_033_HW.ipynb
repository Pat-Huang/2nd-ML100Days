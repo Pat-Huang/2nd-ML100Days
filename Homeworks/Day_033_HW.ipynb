{
 "cells": [
  {
   "cell_type": "markdown",
   "metadata": {},
   "source": [
    "## 練習時間"
   ]
  },
  {
   "cell_type": "markdown",
   "metadata": {},
   "source": [
    "請觀看李宏毅教授以神奇寶貝進化 CP 值預測的範例，解說何謂機器學習與過擬合。並回答以下問題"
   ]
  },
  {
   "cell_type": "markdown",
   "metadata": {},
   "source": [
    "[youtube](https://www.youtube.com/watch?v=fegAeph9UaA)"
   ]
  },
  {
   "cell_type": "markdown",
   "metadata": {},
   "source": [
    "### 1. 模型的泛化能力 (generalization) 是指什麼？ \n",
    "### 2. 分類問題與回歸問題分別可用的目標函數有哪些？"
   ]
  },
  {
   "cell_type": "markdown",
   "metadata": {},
   "source": [
    "1. 指的是模型的適應能力，將模型套用到新數據上也能得到合適的結果。\n",
    "2. 迴歸問題的可用目標函數:損失函數，而目前主流的損失函數是均方誤差函數（mean squared error），平均絕對誤差也\n",
    "   使用較多，除此之外還有，絕對誤差（absolute Loss），決定係數（coefficient of determination ）以及Huber \n",
    "   Loss來度量模型。\n",
    "   \n",
    "   分類問題的可用目標函數:準確率，錯誤率，或者得到混淆矩陣，進一步得到查準率（precision）、查全率（recall）以\n",
    "   及P-R曲線和ROC曲線。"
   ]
  }
 ],
 "metadata": {
  "kernelspec": {
   "display_name": "Python 3",
   "language": "python",
   "name": "python3"
  },
  "language_info": {
   "codemirror_mode": {
    "name": "ipython",
    "version": 3
   },
   "file_extension": ".py",
   "mimetype": "text/x-python",
   "name": "python",
   "nbconvert_exporter": "python",
   "pygments_lexer": "ipython3",
   "version": "3.7.1"
  }
 },
 "nbformat": 4,
 "nbformat_minor": 2
}
