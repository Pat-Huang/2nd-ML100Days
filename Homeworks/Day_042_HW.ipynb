{
 "cells": [
  {
   "cell_type": "markdown",
   "metadata": {},
   "source": [
    "## [作業重點]\n",
    "目前你應該已經要很清楚資料集中，資料的型態是什麼樣子囉！包含特徵 (features) 與標籤 (labels)。因此要記得未來不管什麼專案，必須要把資料清理成相同的格式，才能送進模型訓練。\n",
    "今天的作業開始踏入決策樹這個非常重要的模型，請務必確保你理解模型中每個超參數的意思，並試著調整看看，對最終預測結果的影響為何"
   ]
  },
  {
   "cell_type": "markdown",
   "metadata": {},
   "source": [
    "## 作業\n",
    "\n",
    "1. 試著調整 DecisionTreeClassifier(...) 中的參數，並觀察是否會改變結果？\n",
    "2. 改用其他資料集 (boston, wine)，並與回歸模型的結果進行比較"
   ]
  },
  {
   "cell_type": "code",
   "execution_count": 1,
   "metadata": {},
   "outputs": [],
   "source": [
    "from sklearn import datasets\n",
    "from sklearn.model_selection import train_test_split\n",
    "from sklearn.tree import DecisionTreeClassifier, DecisionTreeRegressor\n",
    "from sklearn.metrics import accuracy_score, mean_absolute_error\n",
    "from sklearn.linear_model import Lasso, LogisticRegression\n",
    "\n",
    "import warnings\n",
    "warnings.filterwarnings('ignore')"
   ]
  },
  {
   "cell_type": "code",
   "execution_count": 2,
   "metadata": {},
   "outputs": [
    {
     "name": "stdout",
     "output_type": "stream",
     "text": [
      "The Mean Absolute Error of boston: 3.36\n",
      "The accuracy score of wine: 0.93\n"
     ]
    }
   ],
   "source": [
    "#決策樹模型\n",
    "boston=datasets.load_boston()\n",
    "wine=datasets.load_wine()\n",
    "\n",
    "x1_train, x1_test, y1_train, y1_test=train_test_split(boston.data, boston.target, test_size=0.3, random_state=4)\n",
    "x2_train, x2_test, y2_train, y2_test=train_test_split(wine.data, wine.target, test_size=0.3, random_state=4)\n",
    "\n",
    "Dtree1=DecisionTreeRegressor(\n",
    "    criterion='mae',\n",
    "    max_depth=None,\n",
    "    min_samples_split=2,\n",
    "    min_samples_leaf=1)\n",
    "\n",
    "Dtree2=DecisionTreeClassifier(\n",
    "    criterion='gini',\n",
    "    max_depth=None,\n",
    "    min_samples_split=2,\n",
    "    min_samples_leaf=1)\n",
    "\n",
    "Dtree1.fit(x1_train, y1_train)\n",
    "y1_pred=Dtree1.predict(x1_test)\n",
    "\n",
    "Dtree2.fit(x2_train, y2_train)\n",
    "y2_pred=Dtree2.predict(x2_test)\n",
    "\n",
    "print('The Mean Absolute Error of boston: %.2f'%mean_absolute_error(y1_test,y1_pred))\n",
    "print('The accuracy score of wine: %.2f'%accuracy_score(y2_test,y2_pred))"
   ]
  },
  {
   "cell_type": "code",
   "execution_count": 3,
   "metadata": {},
   "outputs": [
    {
     "name": "stdout",
     "output_type": "stream",
     "text": [
      "The Mean Absolute Error of boston: 3.85\n",
      "The accuracy score of wine: 0.93\n"
     ]
    }
   ],
   "source": [
    "#回歸模型\n",
    "\n",
    "regr=Lasso(alpha=0.1)\n",
    "regr.fit(x1_train, y1_train)\n",
    "y3_pred=regr.predict(x1_test)\n",
    "print('The Mean Absolute Error of boston: %.2f'%mean_absolute_error(y1_test,y3_pred))\n",
    "\n",
    "regr=LogisticRegression(C=0.1)\n",
    "regr.fit(x2_train, y2_train)\n",
    "y4_pred=regr.predict(x2_test)\n",
    "print('The accuracy score of wine: %.2f'%accuracy_score(y2_test,y4_pred))"
   ]
  }
 ],
 "metadata": {
  "kernelspec": {
   "display_name": "Python 3",
   "language": "python",
   "name": "python3"
  },
  "language_info": {
   "codemirror_mode": {
    "name": "ipython",
    "version": 3
   },
   "file_extension": ".py",
   "mimetype": "text/x-python",
   "name": "python",
   "nbconvert_exporter": "python",
   "pygments_lexer": "ipython3",
   "version": "3.7.1"
  }
 },
 "nbformat": 4,
 "nbformat_minor": 2
}
